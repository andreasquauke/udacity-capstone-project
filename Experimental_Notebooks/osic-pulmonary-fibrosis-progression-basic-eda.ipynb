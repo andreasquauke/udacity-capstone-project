{
 "cells": [
  {
   "metadata": {},
   "cell_type": "markdown",
   "source": [
    "<img src='https://www.osicild.org/uploads/1/2/2/7/122798879/editor/kaggle-v01-clipped.png?1569346633'>\n",
    "<h1><center>OSIC Pulmonary Fibrosis Progression - EDA</center><h1>\n",
    "    \n",
    "# 1. <a id='Introduction'>Introduction 🃏 </a>\n",
    "    \n",
    "###  1.1 What is Pulmonary fibrosis?\n",
    "* [Pulmonary fibrosis is a lung disease that occurs when lung tissue becomes damaged and scarred.](https://www.mayoclinic.org/diseases-conditions/pulmonary-fibrosis/symptoms-causes/syc-20353690)  This thickened, stiff tissue makes it more difficult for your lungs to work properly. If you want to know further about this type lung disease, I have linked below an informative video."
   ],
   "execution_count": null
  },
  {
   "metadata": {
    "_kg_hide-input": true,
    "trusted": true
   },
   "cell_type": "code",
   "source": [
    "from IPython.display import HTML\n",
    "HTML('<center><iframe width=\"560\" height=\"315\" src=\"https://www.youtube.com/embed/AfK9LPNj-Zo\" frameborder=\"0\" allow=\"accelerometer; autoplay; encrypted-media; gyroscope; picture-in-picture\" allowfullscreen></iframe></center>')"
   ],
   "execution_count": 8,
   "outputs": [
    {
     "data": {
      "text/plain": "<IPython.core.display.HTML object>",
      "text/html": "<center><iframe width=\"560\" height=\"315\" src=\"https://www.youtube.com/embed/AfK9LPNj-Zo\" frameborder=\"0\" allow=\"accelerometer; autoplay; encrypted-media; gyroscope; picture-in-picture\" allowfullscreen></iframe></center>"
     },
     "execution_count": 8,
     "metadata": {},
     "output_type": "execute_result"
    }
   ]
  },
  {
   "metadata": {},
   "cell_type": "markdown",
   "source": [
    "###  1.2 What is OSIC Pulmonary Fibrosis Progression Competition?\n",
    "- In this competition, you’ll predict a patient’s severity of decline in lung function based on a CT scan of their lungs. You’ll determine lung function based on output from a spirometer, which measures the volume of air inhaled and exhaled. The challenge is to use machine learning techniques to make a prediction with the image, metadata, and baseline FVC as input.\n",
    "    \n",
    "    \n",
    "###  1.3 What we need to do? Observation\n",
    "We will predict a patient’s severity of decline in lung function based on a CT scan of their lungs.\n",
    "In other words, We will predict the final three FVC measurements for each patient, as well as a confidence value in your prediction.\n",
    "    \n",
    "- The leaderboard of this competition is calculated with approximately 1%->15% of the test data. The final results will be based on the other 99%->85%, so the final standings may be different.\n",
    "    \n",
    "###  1.4 Metric: Laplace Log Likelihood\n",
    "![](https://i.imgur.com/tEIZvli.png)\n",
    "- Image Credits: https://en.wikipedia.org/wiki/Laplace_distribution\n",
    "    \n",
    "- The evaluation metric of this competition is a modified version of Laplace Log Likelihood. \n",
    "Predictions are evaluated with a modified version of the Laplace Log Likelihood. For each sample in test set, an `FVC` and a `Confidence` measure (standard deviation σ) has to be predicted.\n",
    "\n",
    "    `Confidence` values smaller than 70 are clipped.\n",
    "\n",
    "    $\\large \\sigma_{clipped} = max(\\sigma, 70),$\n",
    "\n",
    "    Errors greater than 1000 are also clipped in order to avoid large errors.\n",
    "\n",
    "    $\\large \\Delta = min ( |FVC_{true} - FVC_{predicted}|, 1000 ),$\n",
    "\n",
    "    The metric is defined as:\n",
    "\n",
    "    $\\Large metric = -   \\frac{\\sqrt{2} \\Delta}{\\sigma_{clipped}} - \\ln ( \\sqrt{2} \\sigma_{clipped} ).$\n",
    "\n",
    "\n",
    "Read more about it on the [Evaluation Page](https://www.kaggle.com/c/osic-pulmonary-fibrosis-progression/overview/evaluation).\n",
    "\n",
    "If you feel this was something new and fresh, and it added some value to you, please consider <font color='orange'>upvoting</font>, it motivates to keep writing good kernels. 😄"
   ],
   "execution_count": null
  },
  {
   "metadata": {},
   "cell_type": "markdown",
   "source": [
    "## <font size='5' color='blue'>Contents</font> \n",
    "\n",
    "\n",
    "\n",
    "* [Basic Exploratory Data Analysis](#1)  \n",
    "    * [Getting started - Importing libraries]()\n",
    "    * [Reading the train.csv]()\n",
    "    \n",
    " \n",
    "* [Data Exploration](#2)   \n",
    "     * [Check Train & Test Info.]()\n",
    "     * [Unique Patients(Ids)]()\n",
    "     * [Exploring the 'SmokingStatus' column]()\n",
    "     * [Weeks distribution]()\n",
    "     * [FVC - The forced vital capacity]()\n",
    "     * [Exploring the Percent column]()\n",
    "     * [Gender Distribution]()\n",
    "     * [Patient Overlap]()\n",
    "     \n",
    " \n",
    "* [Visualising Images : DECOM](#3)    \n",
    "     * [Visualising One DECOM Image & Info.]()\n",
    "     * [Visualising Multiple DECOM Images]()\n",
    "     * [Visualization using gif]()\n",
    "     \n",
    "     \n",
    "* [Extracting DIOCOM files Info.](#4)\n",
    "\n",
    "\n",
    "* [Pandas Profiling](#5)\n",
    "     * [Pandas Profiling Report for Train.csv]()\n",
    "     * [Pandas Profiling Report for Test.csv]()\n"
   ],
   "execution_count": null
  },
  {
   "metadata": {},
   "cell_type": "markdown",
   "source": [
    "# 2. <a id='importing'>Importing the necessary libraries📗</a> "
   ],
   "execution_count": null
  },
  {
   "metadata": {
    "trusted": true,
    "_kg_hide-input": false,
    "_kg_hide-output": true
   },
   "cell_type": "code",
   "source": [
    "import os\n",
    "from os import listdir\n",
    "import pandas as pd\n",
    "import numpy as np\n",
    "import glob\n",
    "import tqdm\n",
    "from typing import Dict\n",
    "import matplotlib.pyplot as plt\n",
    "%matplotlib inline\n",
    "\n",
    "#plotly\n",
    "!pip install chart_studio\n",
    "import plotly.express as px\n",
    "import chart_studio.plotly as py\n",
    "import plotly.graph_objs as go\n",
    "from plotly.offline import iplot\n",
    "import cufflinks\n",
    "cufflinks.go_offline()\n",
    "cufflinks.set_config_file(world_readable=True, theme='pearl')\n",
    "\n",
    "#color\n",
    "from colorama import Fore, Back, Style\n",
    "\n",
    "import seaborn as sns\n",
    "sns.set(style=\"whitegrid\")\n",
    "\n",
    "#pydicom\n",
    "import pydicom\n",
    "\n",
    "# Suppress warnings \n",
    "import warnings\n",
    "warnings.filterwarnings('ignore')\n",
    "\n",
    "# Settings for pretty nice plots\n",
    "plt.style.use('fivethirtyeight')\n",
    "plt.show()"
   ],
   "execution_count": 2,
   "outputs": [
    {
     "name": "stdout",
     "output_type": "stream",
     "text": [
      "Requirement already satisfied: chart_studio in /home/andreas/miniconda3/envs/coursera/lib/python3.8/site-packages (1.1.0)\r\n",
      "Requirement already satisfied: six in /home/andreas/miniconda3/envs/coursera/lib/python3.8/site-packages (from chart_studio) (1.15.0)\r\n",
      "Requirement already satisfied: plotly in /home/andreas/miniconda3/envs/coursera/lib/python3.8/site-packages (from chart_studio) (4.9.0)\r\n",
      "Requirement already satisfied: requests in /home/andreas/miniconda3/envs/coursera/lib/python3.8/site-packages (from chart_studio) (2.23.0)\r\n",
      "Requirement already satisfied: retrying>=1.3.3 in /home/andreas/miniconda3/envs/coursera/lib/python3.8/site-packages (from chart_studio) (1.3.3)\r\n",
      "Requirement already satisfied: certifi>=2017.4.17 in /home/andreas/miniconda3/envs/coursera/lib/python3.8/site-packages (from requests->chart_studio) (2020.6.20)\r\n",
      "Requirement already satisfied: chardet<4,>=3.0.2 in /home/andreas/miniconda3/envs/coursera/lib/python3.8/site-packages (from requests->chart_studio) (3.0.4)\r\n",
      "Requirement already satisfied: idna<3,>=2.5 in /home/andreas/miniconda3/envs/coursera/lib/python3.8/site-packages (from requests->chart_studio) (2.9)\r\n",
      "Requirement already satisfied: urllib3!=1.25.0,!=1.25.1,<1.26,>=1.21.1 in /home/andreas/miniconda3/envs/coursera/lib/python3.8/site-packages (from requests->chart_studio) (1.25.8)\r\n"
     ]
    },
    {
     "data": {
      "text/html": "        <script type=\"text/javascript\">\n        window.PlotlyConfig = {MathJaxConfig: 'local'};\n        if (window.MathJax) {MathJax.Hub.Config({SVG: {font: \"STIX-Web\"}});}\n        if (typeof require !== 'undefined') {\n        require.undef(\"plotly\");\n        requirejs.config({\n            paths: {\n                'plotly': ['https://cdn.plot.ly/plotly-latest.min']\n            }\n        });\n        require(['plotly'], function(Plotly) {\n            window._Plotly = Plotly;\n        });\n        }\n        </script>\n        "
     },
     "metadata": {},
     "output_type": "display_data"
    }
   ]
  },
  {
   "metadata": {},
   "cell_type": "markdown",
   "source": [
    "# 3. <a id='reading'>Reading the train.csv 📚</a>"
   ],
   "execution_count": null
  },
  {
   "metadata": {
    "trusted": true
   },
   "cell_type": "code",
   "source": [
    "# List files available\n",
    "list(os.listdir(\"input/osic-pulmonary-fibrosis-progression\"))"
   ],
   "execution_count": 10,
   "outputs": [
    {
     "data": {
      "text/plain": "['sample_submission.csv', 'train.csv', 'test.csv', 'test', 'train']"
     },
     "execution_count": 10,
     "metadata": {},
     "output_type": "execute_result"
    }
   ]
  },
  {
   "metadata": {
    "trusted": true
   },
   "cell_type": "code",
   "source": [
    "IMAGE_PATH = \"input/osic-pulmonary-fibrosis-progression/\"\n",
    "\n",
    "train_df = pd.read_csv('input/osic-pulmonary-fibrosis-progression/train.csv')\n",
    "test_df = pd.read_csv('input/osic-pulmonary-fibrosis-progression/test.csv')\n",
    "\n",
    "print(Fore.YELLOW + 'Training data shape: ',Style.RESET_ALL,train_df.shape)\n",
    "train_df.head(5)"
   ],
   "execution_count": 3,
   "outputs": [
    {
     "name": "stdout",
     "output_type": "stream",
     "text": [
      "\u001B[33mTraining data shape:  \u001B[0m (1549, 7)\n"
     ]
    },
    {
     "data": {
      "text/plain": "                     Patient  Weeks   FVC    Percent  Age   Sex SmokingStatus\n0  ID00007637202177411956430     -4  2315  58.253649   79  Male     Ex-smoker\n1  ID00007637202177411956430      5  2214  55.712129   79  Male     Ex-smoker\n2  ID00007637202177411956430      7  2061  51.862104   79  Male     Ex-smoker\n3  ID00007637202177411956430      9  2144  53.950679   79  Male     Ex-smoker\n4  ID00007637202177411956430     11  2069  52.063412   79  Male     Ex-smoker",
      "text/html": "<div>\n<style scoped>\n    .dataframe tbody tr th:only-of-type {\n        vertical-align: middle;\n    }\n\n    .dataframe tbody tr th {\n        vertical-align: top;\n    }\n\n    .dataframe thead th {\n        text-align: right;\n    }\n</style>\n<table border=\"1\" class=\"dataframe\">\n  <thead>\n    <tr style=\"text-align: right;\">\n      <th></th>\n      <th>Patient</th>\n      <th>Weeks</th>\n      <th>FVC</th>\n      <th>Percent</th>\n      <th>Age</th>\n      <th>Sex</th>\n      <th>SmokingStatus</th>\n    </tr>\n  </thead>\n  <tbody>\n    <tr>\n      <th>0</th>\n      <td>ID00007637202177411956430</td>\n      <td>-4</td>\n      <td>2315</td>\n      <td>58.253649</td>\n      <td>79</td>\n      <td>Male</td>\n      <td>Ex-smoker</td>\n    </tr>\n    <tr>\n      <th>1</th>\n      <td>ID00007637202177411956430</td>\n      <td>5</td>\n      <td>2214</td>\n      <td>55.712129</td>\n      <td>79</td>\n      <td>Male</td>\n      <td>Ex-smoker</td>\n    </tr>\n    <tr>\n      <th>2</th>\n      <td>ID00007637202177411956430</td>\n      <td>7</td>\n      <td>2061</td>\n      <td>51.862104</td>\n      <td>79</td>\n      <td>Male</td>\n      <td>Ex-smoker</td>\n    </tr>\n    <tr>\n      <th>3</th>\n      <td>ID00007637202177411956430</td>\n      <td>9</td>\n      <td>2144</td>\n      <td>53.950679</td>\n      <td>79</td>\n      <td>Male</td>\n      <td>Ex-smoker</td>\n    </tr>\n    <tr>\n      <th>4</th>\n      <td>ID00007637202177411956430</td>\n      <td>11</td>\n      <td>2069</td>\n      <td>52.063412</td>\n      <td>79</td>\n      <td>Male</td>\n      <td>Ex-smoker</td>\n    </tr>\n  </tbody>\n</table>\n</div>"
     },
     "execution_count": 3,
     "metadata": {},
     "output_type": "execute_result"
    }
   ]
  },
  {
   "metadata": {
    "_uuid": "d629ff2d2480ee46fbb7e2d37f6b5fab8052498a",
    "_cell_guid": "79c7e3d0-c299-4dcb-8224-4455121ee9b0",
    "trusted": true
   },
   "cell_type": "code",
   "source": [
    "train_df.groupby(['SmokingStatus']).count()['Sex'].to_frame()"
   ],
   "execution_count": 12,
   "outputs": [
    {
     "data": {
      "text/plain": "                   Sex\nSmokingStatus         \nCurrently smokes    82\nEx-smoker         1038\nNever smoked       429",
      "text/html": "<div>\n<style scoped>\n    .dataframe tbody tr th:only-of-type {\n        vertical-align: middle;\n    }\n\n    .dataframe tbody tr th {\n        vertical-align: top;\n    }\n\n    .dataframe thead th {\n        text-align: right;\n    }\n</style>\n<table border=\"1\" class=\"dataframe\">\n  <thead>\n    <tr style=\"text-align: right;\">\n      <th></th>\n      <th>Sex</th>\n    </tr>\n    <tr>\n      <th>SmokingStatus</th>\n      <th></th>\n    </tr>\n  </thead>\n  <tbody>\n    <tr>\n      <th>Currently smokes</th>\n      <td>82</td>\n    </tr>\n    <tr>\n      <th>Ex-smoker</th>\n      <td>1038</td>\n    </tr>\n    <tr>\n      <th>Never smoked</th>\n      <td>429</td>\n    </tr>\n  </tbody>\n</table>\n</div>"
     },
     "execution_count": 12,
     "metadata": {},
     "output_type": "execute_result"
    }
   ]
  },
  {
   "metadata": {},
   "cell_type": "markdown",
   "source": [
    "# 4. <a id='basic'>Basic Data Exploration 🏕️</a> "
   ],
   "execution_count": null
  },
  {
   "metadata": {},
   "cell_type": "markdown",
   "source": [
    "## General Info"
   ],
   "execution_count": null
  },
  {
   "metadata": {
    "trusted": true
   },
   "cell_type": "code",
   "source": [
    "# Null values and Data types\n",
    "print(Fore.YELLOW + 'Train Set !!',Style.RESET_ALL)\n",
    "print(train_df.info())\n",
    "print('-------------')\n",
    "print(Fore.BLUE + 'Test Set !!',Style.RESET_ALL)\n",
    "print(test_df.info())"
   ],
   "execution_count": 13,
   "outputs": [
    {
     "name": "stdout",
     "output_type": "stream",
     "text": [
      "\u001B[33mTrain Set !! \u001B[0m\n",
      "<class 'pandas.core.frame.DataFrame'>\n",
      "RangeIndex: 1549 entries, 0 to 1548\n",
      "Data columns (total 7 columns):\n",
      " #   Column         Non-Null Count  Dtype  \n",
      "---  ------         --------------  -----  \n",
      " 0   Patient        1549 non-null   object \n",
      " 1   Weeks          1549 non-null   int64  \n",
      " 2   FVC            1549 non-null   int64  \n",
      " 3   Percent        1549 non-null   float64\n",
      " 4   Age            1549 non-null   int64  \n",
      " 5   Sex            1549 non-null   object \n",
      " 6   SmokingStatus  1549 non-null   object \n",
      "dtypes: float64(1), int64(3), object(3)\n",
      "memory usage: 84.8+ KB\n",
      "None\n",
      "-------------\n",
      "\u001B[34mTest Set !! \u001B[0m\n",
      "<class 'pandas.core.frame.DataFrame'>\n",
      "RangeIndex: 5 entries, 0 to 4\n",
      "Data columns (total 7 columns):\n",
      " #   Column         Non-Null Count  Dtype  \n",
      "---  ------         --------------  -----  \n",
      " 0   Patient        5 non-null      object \n",
      " 1   Weeks          5 non-null      int64  \n",
      " 2   FVC            5 non-null      int64  \n",
      " 3   Percent        5 non-null      float64\n",
      " 4   Age            5 non-null      int64  \n",
      " 5   Sex            5 non-null      object \n",
      " 6   SmokingStatus  5 non-null      object \n",
      "dtypes: float64(1), int64(3), object(3)\n",
      "memory usage: 408.0+ bytes\n",
      "None\n"
     ]
    }
   ]
  },
  {
   "metadata": {},
   "cell_type": "markdown",
   "source": [
    "The type of Percent column is float64."
   ],
   "execution_count": null
  },
  {
   "metadata": {},
   "cell_type": "markdown",
   "source": [
    "### Missing values"
   ],
   "execution_count": null
  },
  {
   "metadata": {
    "trusted": true
   },
   "cell_type": "code",
   "source": [
    "train_df.isnull().sum()"
   ],
   "execution_count": 14,
   "outputs": [
    {
     "data": {
      "text/plain": "Patient          0\nWeeks            0\nFVC              0\nPercent          0\nAge              0\nSex              0\nSmokingStatus    0\ndtype: int64"
     },
     "execution_count": 14,
     "metadata": {},
     "output_type": "execute_result"
    }
   ]
  },
  {
   "metadata": {
    "trusted": true
   },
   "cell_type": "code",
   "source": [
    "test_df.isnull().sum()"
   ],
   "execution_count": 15,
   "outputs": [
    {
     "data": {
      "text/plain": "Patient          0\nWeeks            0\nFVC              0\nPercent          0\nAge              0\nSex              0\nSmokingStatus    0\ndtype: int64"
     },
     "execution_count": 15,
     "metadata": {},
     "output_type": "execute_result"
    }
   ]
  },
  {
   "metadata": {},
   "cell_type": "markdown",
   "source": [
    "There is no missing values in train_df and test_df."
   ],
   "execution_count": null
  },
  {
   "metadata": {
    "trusted": true
   },
   "cell_type": "code",
   "source": [
    "# Total number of Patient in the dataset(train+test)\n",
    "\n",
    "print(Fore.YELLOW +\"Total Patients in Train set: \",Style.RESET_ALL,train_df['Patient'].count())\n",
    "print(Fore.BLUE +\"Total Patients in Test set: \",Style.RESET_ALL,test_df['Patient'].count())"
   ],
   "execution_count": 16,
   "outputs": [
    {
     "name": "stdout",
     "output_type": "stream",
     "text": [
      "\u001B[33mTotal Patients in Train set:  \u001B[0m 1549\n",
      "\u001B[34mTotal Patients in Test set:  \u001B[0m 5\n"
     ]
    }
   ]
  },
  {
   "metadata": {},
   "cell_type": "markdown",
   "source": [
    " `5` : Patients in Test Set"
   ],
   "execution_count": null
  },
  {
   "metadata": {},
   "cell_type": "markdown",
   "source": [
    "## Unique Patients(Ids)"
   ],
   "execution_count": null
  },
  {
   "metadata": {
    "trusted": true
   },
   "cell_type": "code",
   "source": [
    "print(Fore.YELLOW + \"The total patient ids are\",Style.RESET_ALL,f\"{train_df['Patient'].count()},\", Fore.BLUE + \"from those the unique ids are\", Style.RESET_ALL, f\"{train_df['Patient'].value_counts().shape[0]}.\")"
   ],
   "execution_count": 17,
   "outputs": [
    {
     "name": "stdout",
     "output_type": "stream",
     "text": [
      "\u001B[33mThe total patient ids are \u001B[0m 1549, \u001B[34mfrom those the unique ids are \u001B[0m 176.\n"
     ]
    }
   ]
  },
  {
   "metadata": {
    "trusted": true
   },
   "cell_type": "code",
   "source": [
    "train_patient_ids = set(train_df['Patient'].unique())\n",
    "test_patient_ids = set(test_df['Patient'].unique())\n",
    "\n",
    "train_patient_ids.intersection(test_patient_ids)"
   ],
   "execution_count": 18,
   "outputs": [
    {
     "data": {
      "text/plain": "{'ID00419637202311204720264',\n 'ID00421637202311550012437',\n 'ID00422637202311677017371',\n 'ID00423637202312137826377',\n 'ID00426637202313170790466'}"
     },
     "execution_count": 18,
     "metadata": {},
     "output_type": "execute_result"
    }
   ]
  },
  {
   "metadata": {},
   "cell_type": "markdown",
   "source": [
    "We already see `5` patients in test set that can be found in train set as well."
   ],
   "execution_count": null
  },
  {
   "metadata": {
    "trusted": true
   },
   "cell_type": "code",
   "source": [
    "columns = train_df.keys()\n",
    "columns = list(columns)\n",
    "print(columns)"
   ],
   "execution_count": 19,
   "outputs": [
    {
     "name": "stdout",
     "output_type": "stream",
     "text": [
      "['Patient', 'Weeks', 'FVC', 'Percent', 'Age', 'Sex', 'SmokingStatus']\n"
     ]
    }
   ]
  },
  {
   "metadata": {},
   "cell_type": "markdown",
   "source": [
    "### Patient Counts"
   ],
   "execution_count": null
  },
  {
   "metadata": {
    "trusted": true
   },
   "cell_type": "code",
   "source": [
    "train_df['Patient'].value_counts().max()"
   ],
   "execution_count": 20,
   "outputs": [
    {
     "data": {
      "text/plain": "10"
     },
     "execution_count": 20,
     "metadata": {},
     "output_type": "execute_result"
    }
   ]
  },
  {
   "metadata": {},
   "cell_type": "markdown",
   "source": [
    "In train set, there are multiple rows for one 'Patient'. Because Patient has different weeks, FVC, Percent."
   ],
   "execution_count": null
  },
  {
   "metadata": {
    "trusted": true
   },
   "cell_type": "code",
   "source": [
    "test_df['Patient'].value_counts().max()"
   ],
   "execution_count": 21,
   "outputs": [
    {
     "data": {
      "text/plain": "1"
     },
     "execution_count": 21,
     "metadata": {},
     "output_type": "execute_result"
    }
   ]
  },
  {
   "metadata": {},
   "cell_type": "markdown",
   "source": [
    "In test set, we can see one Patient and it mean Patient id is unique."
   ],
   "execution_count": null
  },
  {
   "metadata": {
    "trusted": true
   },
   "cell_type": "code",
   "source": [
    "np.quantile(train_df['Patient'].value_counts(), 0.75) - np.quantile(test_df['Patient'].value_counts(), 0.25)"
   ],
   "execution_count": 22,
   "outputs": [
    {
     "data": {
      "text/plain": "8.0"
     },
     "execution_count": 22,
     "metadata": {},
     "output_type": "execute_result"
    }
   ]
  },
  {
   "metadata": {
    "trusted": true
   },
   "cell_type": "code",
   "source": [
    "print(np.quantile(train_df['Patient'].value_counts(), 0.95))\n",
    "print(np.quantile(test_df['Patient'].value_counts(), 0.95))"
   ],
   "execution_count": 23,
   "outputs": [
    {
     "name": "stdout",
     "output_type": "stream",
     "text": [
      "10.0\n",
      "1.0\n"
     ]
    }
   ]
  },
  {
   "metadata": {},
   "cell_type": "markdown",
   "source": [
    "## Number of Patients and Images in Training Images Folder\n",
    "* https://www.kaggle.com/yeayates21/osic-simple-image-eda"
   ],
   "execution_count": null
  },
  {
   "metadata": {
    "trusted": true
   },
   "cell_type": "code",
   "source": [
    "files = folders = 0\n",
    "\n",
    "path = \"/kaggle/input/osic-pulmonary-fibrosis-progression/train\"\n",
    "\n",
    "for _, dirnames, filenames in os.walk(path):\n",
    "  # ^ this idiom means \"we won't be using this value\"\n",
    "    files += len(filenames)\n",
    "    folders += len(dirnames)\n",
    "#print(Fore.YELLOW +\"Total Patients in Train set: \",Style.RESET_ALL,train_df['Patient'].count())\n",
    "print(Fore.YELLOW +f'{files:,}',Style.RESET_ALL,\"files/images, \" + Fore.BLUE + f'{folders:,}',Style.RESET_ALL ,'folders/patients')"
   ],
   "execution_count": 24,
   "outputs": [
    {
     "name": "stdout",
     "output_type": "stream",
     "text": [
      "\u001B[33m0 \u001B[0m files/images, \u001B[34m0 \u001B[0m folders/patients\n"
     ]
    }
   ]
  },
  {
   "metadata": {
    "trusted": true
   },
   "cell_type": "code",
   "source": [
    "files = []\n",
    "for _, dirnames, filenames in os.walk(path):\n",
    "  # ^ this idiom means \"we won't be using this value\"\n",
    "    files.append(len(filenames))\n",
    "\n",
    "print(Fore.YELLOW +f'{round(np.mean(files)):,}',Style.RESET_ALL,'average files/images per patient')\n",
    "print(Fore.BLUE +f'{round(np.max(files)):,}',Style.RESET_ALL, 'max files/images per patient')\n",
    "print(Fore.GREEN +f'{round(np.min(files)):,}',Style.RESET_ALL,'min files/images per patient')"
   ],
   "execution_count": 25,
   "outputs": [
    {
     "name": "stdout",
     "output_type": "stream",
     "text": [
      "\u001B[33mnan \u001B[0m average files/images per patient\n"
     ]
    },
    {
     "ename": "ValueError",
     "evalue": "zero-size array to reduction operation maximum which has no identity",
     "output_type": "error",
     "traceback": [
      "\u001B[0;31m---------------------------------------------------------------------------\u001B[0m",
      "\u001B[0;31mValueError\u001B[0m                                Traceback (most recent call last)",
      "\u001B[0;32m<ipython-input-25-420aa023b67e>\u001B[0m in \u001B[0;36m<module>\u001B[0;34m\u001B[0m\n\u001B[1;32m      5\u001B[0m \u001B[0;34m\u001B[0m\u001B[0m\n\u001B[1;32m      6\u001B[0m \u001B[0mprint\u001B[0m\u001B[0;34m(\u001B[0m\u001B[0mFore\u001B[0m\u001B[0;34m.\u001B[0m\u001B[0mYELLOW\u001B[0m \u001B[0;34m+\u001B[0m\u001B[0;34mf'{round(np.mean(files)):,}'\u001B[0m\u001B[0;34m,\u001B[0m\u001B[0mStyle\u001B[0m\u001B[0;34m.\u001B[0m\u001B[0mRESET_ALL\u001B[0m\u001B[0;34m,\u001B[0m\u001B[0;34m'average files/images per patient'\u001B[0m\u001B[0;34m)\u001B[0m\u001B[0;34m\u001B[0m\u001B[0;34m\u001B[0m\u001B[0m\n\u001B[0;32m----> 7\u001B[0;31m \u001B[0mprint\u001B[0m\u001B[0;34m(\u001B[0m\u001B[0mFore\u001B[0m\u001B[0;34m.\u001B[0m\u001B[0mBLUE\u001B[0m \u001B[0;34m+\u001B[0m\u001B[0;34mf'{round(np.max(files)):,}'\u001B[0m\u001B[0;34m,\u001B[0m\u001B[0mStyle\u001B[0m\u001B[0;34m.\u001B[0m\u001B[0mRESET_ALL\u001B[0m\u001B[0;34m,\u001B[0m \u001B[0;34m'max files/images per patient'\u001B[0m\u001B[0;34m)\u001B[0m\u001B[0;34m\u001B[0m\u001B[0;34m\u001B[0m\u001B[0m\n\u001B[0m\u001B[1;32m      8\u001B[0m \u001B[0mprint\u001B[0m\u001B[0;34m(\u001B[0m\u001B[0mFore\u001B[0m\u001B[0;34m.\u001B[0m\u001B[0mGREEN\u001B[0m \u001B[0;34m+\u001B[0m\u001B[0;34mf'{round(np.min(files)):,}'\u001B[0m\u001B[0;34m,\u001B[0m\u001B[0mStyle\u001B[0m\u001B[0;34m.\u001B[0m\u001B[0mRESET_ALL\u001B[0m\u001B[0;34m,\u001B[0m\u001B[0;34m'min files/images per patient'\u001B[0m\u001B[0;34m)\u001B[0m\u001B[0;34m\u001B[0m\u001B[0;34m\u001B[0m\u001B[0m\n\u001B[1;32m      9\u001B[0m \u001B[0;34m\u001B[0m\u001B[0m\n",
      "\u001B[0;32m<__array_function__ internals>\u001B[0m in \u001B[0;36mamax\u001B[0;34m(*args, **kwargs)\u001B[0m\n",
      "\u001B[0;32m~/miniconda3/envs/coursera/lib/python3.8/site-packages/numpy/core/fromnumeric.py\u001B[0m in \u001B[0;36mamax\u001B[0;34m(a, axis, out, keepdims, initial, where)\u001B[0m\n\u001B[1;32m   2665\u001B[0m     \u001B[0;36m5\u001B[0m\u001B[0;34m\u001B[0m\u001B[0;34m\u001B[0m\u001B[0m\n\u001B[1;32m   2666\u001B[0m     \"\"\"\n\u001B[0;32m-> 2667\u001B[0;31m     return _wrapreduction(a, np.maximum, 'max', axis, None, out,\n\u001B[0m\u001B[1;32m   2668\u001B[0m                           keepdims=keepdims, initial=initial, where=where)\n\u001B[1;32m   2669\u001B[0m \u001B[0;34m\u001B[0m\u001B[0m\n",
      "\u001B[0;32m~/miniconda3/envs/coursera/lib/python3.8/site-packages/numpy/core/fromnumeric.py\u001B[0m in \u001B[0;36m_wrapreduction\u001B[0;34m(obj, ufunc, method, axis, dtype, out, **kwargs)\u001B[0m\n\u001B[1;32m     88\u001B[0m                 \u001B[0;32mreturn\u001B[0m \u001B[0mreduction\u001B[0m\u001B[0;34m(\u001B[0m\u001B[0maxis\u001B[0m\u001B[0;34m=\u001B[0m\u001B[0maxis\u001B[0m\u001B[0;34m,\u001B[0m \u001B[0mout\u001B[0m\u001B[0;34m=\u001B[0m\u001B[0mout\u001B[0m\u001B[0;34m,\u001B[0m \u001B[0;34m**\u001B[0m\u001B[0mpasskwargs\u001B[0m\u001B[0;34m)\u001B[0m\u001B[0;34m\u001B[0m\u001B[0;34m\u001B[0m\u001B[0m\n\u001B[1;32m     89\u001B[0m \u001B[0;34m\u001B[0m\u001B[0m\n\u001B[0;32m---> 90\u001B[0;31m     \u001B[0;32mreturn\u001B[0m \u001B[0mufunc\u001B[0m\u001B[0;34m.\u001B[0m\u001B[0mreduce\u001B[0m\u001B[0;34m(\u001B[0m\u001B[0mobj\u001B[0m\u001B[0;34m,\u001B[0m \u001B[0maxis\u001B[0m\u001B[0;34m,\u001B[0m \u001B[0mdtype\u001B[0m\u001B[0;34m,\u001B[0m \u001B[0mout\u001B[0m\u001B[0;34m,\u001B[0m \u001B[0;34m**\u001B[0m\u001B[0mpasskwargs\u001B[0m\u001B[0;34m)\u001B[0m\u001B[0;34m\u001B[0m\u001B[0;34m\u001B[0m\u001B[0m\n\u001B[0m\u001B[1;32m     91\u001B[0m \u001B[0;34m\u001B[0m\u001B[0m\n\u001B[1;32m     92\u001B[0m \u001B[0;34m\u001B[0m\u001B[0m\n",
      "\u001B[0;31mValueError\u001B[0m: zero-size array to reduction operation maximum which has no identity"
     ]
    }
   ]
  },
  {
   "metadata": {},
   "cell_type": "markdown",
   "source": [
    "# 5. <a id='details'>Data Exploration in Details 🎠</a> "
   ],
   "execution_count": null
  },
  {
   "metadata": {},
   "cell_type": "markdown",
   "source": [
    "## Creating Individual Patient Dataframe\n",
    "\n",
    "for `175` unique patients, we make new dataframe\n",
    "\n",
    "Thanks [@wjdanalharthi](https://www.kaggle.com/wjdanalharthi)"
   ],
   "execution_count": null
  },
  {
   "metadata": {
    "trusted": true
   },
   "cell_type": "code",
   "source": [
    "patient_df = train_df[['Patient', 'Age', 'Sex', 'SmokingStatus']].drop_duplicates()\n",
    "patient_df.head()"
   ],
   "execution_count": null,
   "outputs": []
  },
  {
   "metadata": {},
   "cell_type": "markdown",
   "source": [
    "You can use this:\n",
    "- https://www.kaggle.com/redwankarimsony/pulmonary-fibrosis-progression-interactive-eda"
   ],
   "execution_count": null
  },
  {
   "metadata": {
    "trusted": true
   },
   "cell_type": "code",
   "source": [
    "# Creating unique patient lists and their properties. \n",
    "train_dir = 'input/osic-pulmonary-fibrosis-progression/train/'\n",
    "test_dir = 'input/osic-pulmonary-fibrosis-progression/test/'\n",
    "\n",
    "patient_ids = os.listdir(train_dir)\n",
    "patient_ids = sorted(patient_ids)\n",
    "\n",
    "#Creating new rows\n",
    "no_of_instances = []\n",
    "age = []\n",
    "sex = []\n",
    "smoking_status = []\n",
    "\n",
    "for patient_id in patient_ids:\n",
    "    patient_info = train_df[train_df['Patient'] == patient_id].reset_index()\n",
    "    no_of_instances.append(len(os.listdir(train_dir + patient_id)))\n",
    "    age.append(patient_info['Age'][0])\n",
    "    sex.append(patient_info['Sex'][0])\n",
    "    smoking_status.append(patient_info['SmokingStatus'][0])\n",
    "\n",
    "#Creating the dataframe for the patient info    \n",
    "patient_df = pd.DataFrame(list(zip(patient_ids, no_of_instances, age, sex, smoking_status)), \n",
    "                                 columns =['Patient', 'no_of_instances', 'Age', 'Sex', 'SmokingStatus'])\n",
    "print(patient_df.info())\n",
    "patient_df.head()"
   ],
   "execution_count": null,
   "outputs": []
  },
  {
   "metadata": {},
   "cell_type": "markdown",
   "source": [
    "## Exploring the 'SmokingStatus' column"
   ],
   "execution_count": null
  },
  {
   "metadata": {
    "trusted": true
   },
   "cell_type": "code",
   "source": [
    "patient_df['SmokingStatus'].value_counts()"
   ],
   "execution_count": null,
   "outputs": []
  },
  {
   "metadata": {
    "trusted": true
   },
   "cell_type": "code",
   "source": [
    "patient_df['SmokingStatus'].value_counts().iplot(kind='bar',\n",
    "                                              yTitle='Counts', \n",
    "                                              linecolor='black', \n",
    "                                              opacity=0.7,\n",
    "                                              color='blue',\n",
    "                                              theme='pearl',\n",
    "                                              bargap=0.5,\n",
    "                                              gridcolor='white',\n",
    "                                              title='Distribution of the SmokingStatus column in the Unique Patient Set')"
   ],
   "execution_count": null,
   "outputs": []
  },
  {
   "metadata": {},
   "cell_type": "markdown",
   "source": [
    "`118` : Ex-smoker\n",
    "\n",
    "`49` : Never smoked\n",
    "\n",
    "`9` : Currently smokes"
   ],
   "execution_count": null
  },
  {
   "metadata": {},
   "cell_type": "markdown",
   "source": [
    "## Weeks distribution"
   ],
   "execution_count": null
  },
  {
   "metadata": {
    "trusted": true
   },
   "cell_type": "code",
   "source": [
    "train_df['Weeks'].value_counts().head()"
   ],
   "execution_count": null,
   "outputs": []
  },
  {
   "metadata": {
    "trusted": true
   },
   "cell_type": "code",
   "source": [
    "train_df['Weeks'].value_counts().iplot(kind='barh',\n",
    "                                      xTitle='Counts(Weeks)', \n",
    "                                      linecolor='black', \n",
    "                                      opacity=0.7,\n",
    "                                      color='#FB8072',\n",
    "                                      theme='pearl',\n",
    "                                      bargap=0.2,\n",
    "                                      gridcolor='white',\n",
    "                                      title='Distribution of the Weeks in the training set')"
   ],
   "execution_count": null,
   "outputs": []
  },
  {
   "metadata": {
    "trusted": true
   },
   "cell_type": "code",
   "source": [
    "train_df['Weeks'].iplot(kind='hist',\n",
    "                              xTitle='Weeks', \n",
    "                              yTitle='Counts',\n",
    "                              linecolor='black', \n",
    "                              opacity=0.7,\n",
    "                              color='#FB8072',\n",
    "                              theme='pearl',\n",
    "                              bargap=0.2,\n",
    "                              gridcolor='white',\n",
    "                              title='Distribution of the Weeks in the training set')"
   ],
   "execution_count": null,
   "outputs": []
  },
  {
   "metadata": {},
   "cell_type": "markdown",
   "source": [
    "There are some negative values for Weeks. \n",
    "\n",
    "Because Weeks is the relative number of weeks pre/post the baseline CT."
   ],
   "execution_count": null
  },
  {
   "metadata": {},
   "cell_type": "markdown",
   "source": [
    "## Distribution Age over Week"
   ],
   "execution_count": null
  },
  {
   "metadata": {
    "trusted": true
   },
   "cell_type": "code",
   "source": [
    "fig = px.scatter(train_df, x=\"Weeks\", y=\"Age\", color='Sex')\n",
    "fig.show()"
   ],
   "execution_count": null,
   "outputs": []
  },
  {
   "metadata": {},
   "cell_type": "markdown",
   "source": [
    "## FVC - The forced vital capacity"
   ],
   "execution_count": null
  },
  {
   "metadata": {},
   "cell_type": "markdown",
   "source": [
    " The forced vital capacity (FVC), i.e. the volume of air exhaled\n",
    " - the recorded lung capacity in ml"
   ],
   "execution_count": null
  },
  {
   "metadata": {
    "trusted": true
   },
   "cell_type": "code",
   "source": [
    "train_df['FVC'].value_counts()"
   ],
   "execution_count": null,
   "outputs": []
  },
  {
   "metadata": {
    "trusted": true
   },
   "cell_type": "code",
   "source": [
    "train_df['FVC'].iplot(kind='hist',\n",
    "                      xTitle='Lung Capacity(ml)', \n",
    "                      linecolor='black', \n",
    "                      opacity=0.8,\n",
    "                      color='#FB8072',\n",
    "                      bargap=0.5,\n",
    "                      gridcolor='white',\n",
    "                      title='Distribution of the FVC in the training set')"
   ],
   "execution_count": null,
   "outputs": []
  },
  {
   "metadata": {},
   "cell_type": "markdown",
   "source": [
    "### FVC vs Percent"
   ],
   "execution_count": null
  },
  {
   "metadata": {
    "trusted": true
   },
   "cell_type": "code",
   "source": [
    "fig = px.scatter(train_df, x=\"FVC\", y=\"Percent\", color='Age')\n",
    "fig.show()"
   ],
   "execution_count": null,
   "outputs": []
  },
  {
   "metadata": {},
   "cell_type": "markdown",
   "source": [
    "FVC seems to related Percent linearly. Makes sense as both terms are proportional."
   ],
   "execution_count": null
  },
  {
   "metadata": {},
   "cell_type": "markdown",
   "source": [
    "### FVC vs Age"
   ],
   "execution_count": null
  },
  {
   "metadata": {
    "trusted": true
   },
   "cell_type": "code",
   "source": [
    "fig = px.scatter(train_df, x=\"FVC\", y=\"Age\", color='Sex')\n",
    "fig.show()"
   ],
   "execution_count": null,
   "outputs": []
  },
  {
   "metadata": {},
   "cell_type": "markdown",
   "source": [
    "Males have higher FVC than females irrespective of age"
   ],
   "execution_count": null
  },
  {
   "metadata": {},
   "cell_type": "markdown",
   "source": [
    "### FVC vs Weeks"
   ],
   "execution_count": null
  },
  {
   "metadata": {
    "trusted": true
   },
   "cell_type": "code",
   "source": [
    "fig = px.scatter(train_df, x=\"FVC\", y=\"Weeks\", color='SmokingStatus')\n",
    "fig.show()"
   ],
   "execution_count": null,
   "outputs": []
  },
  {
   "metadata": {},
   "cell_type": "markdown",
   "source": [
    "### Pick one patient for FVC vs Weeks"
   ],
   "execution_count": null
  },
  {
   "metadata": {
    "trusted": true
   },
   "cell_type": "code",
   "source": [
    "patient = train_df[train_df.Patient == 'ID00228637202259965313869']\n",
    "fig = px.line(patient, x=\"Weeks\", y=\"FVC\", color='SmokingStatus')\n",
    "fig.show()"
   ],
   "execution_count": null,
   "outputs": []
  },
  {
   "metadata": {},
   "cell_type": "markdown",
   "source": [
    "Person never smoked has FVC lower than smoker. Some Ex-smoker have very high FVC."
   ],
   "execution_count": null
  },
  {
   "metadata": {},
   "cell_type": "markdown",
   "source": [
    "## Percent"
   ],
   "execution_count": null
  },
  {
   "metadata": {},
   "cell_type": "markdown",
   "source": [
    "A computed field which approximates the patient's FVC as a percent of the typical FVC for a person of similar characteristics"
   ],
   "execution_count": null
  },
  {
   "metadata": {
    "trusted": true
   },
   "cell_type": "code",
   "source": [
    "train_df['Percent'].value_counts()"
   ],
   "execution_count": null,
   "outputs": []
  },
  {
   "metadata": {
    "trusted": true
   },
   "cell_type": "code",
   "source": [
    "train_df['Percent'].iplot(kind='hist',bins=30,color='blue',xTitle='Percent distribution',yTitle='Count')"
   ],
   "execution_count": null,
   "outputs": []
  },
  {
   "metadata": {},
   "cell_type": "markdown",
   "source": [
    "### Percent vs SmokingStatus In Patient Dataframe"
   ],
   "execution_count": null
  },
  {
   "metadata": {
    "trusted": true
   },
   "cell_type": "code",
   "source": [
    "df = train_df\n",
    "fig = px.violin(df, y='Percent', x='SmokingStatus', box=True, color='Sex', points=\"all\",\n",
    "          hover_data=train_df.columns)\n",
    "fig.show()"
   ],
   "execution_count": null,
   "outputs": []
  },
  {
   "metadata": {
    "trusted": true
   },
   "cell_type": "code",
   "source": [
    "plt.figure(figsize=(16, 6))\n",
    "ax = sns.violinplot(x = train_df['SmokingStatus'], y = train_df['Percent'], palette = 'Reds')\n",
    "ax.set_xlabel(xlabel = 'Smoking Habit', fontsize = 15)\n",
    "ax.set_ylabel(ylabel = 'Percent', fontsize = 15)\n",
    "ax.set_title(label = 'Distribution of Smoking Status Over Percentage', fontsize = 20)\n",
    "plt.show()"
   ],
   "execution_count": null,
   "outputs": []
  },
  {
   "metadata": {
    "trusted": true
   },
   "cell_type": "code",
   "source": [
    "fig = px.scatter(train_df, x=\"Age\", y=\"Percent\", color='SmokingStatus')\n",
    "fig.show()"
   ],
   "execution_count": null,
   "outputs": []
  },
  {
   "metadata": {},
   "cell_type": "markdown",
   "source": [
    "### Pick one patient for FVC vs Weeks"
   ],
   "execution_count": null
  },
  {
   "metadata": {
    "trusted": true
   },
   "cell_type": "code",
   "source": [
    "patient = train_df[train_df.Patient == 'ID00228637202259965313869']\n",
    "fig = px.line(patient, x=\"Weeks\", y=\"Percent\", color='SmokingStatus')\n",
    "fig.show()"
   ],
   "execution_count": null,
   "outputs": []
  },
  {
   "metadata": {},
   "cell_type": "markdown",
   "source": [
    "## Age Distribution of Unique Patients"
   ],
   "execution_count": null
  },
  {
   "metadata": {
    "trusted": true
   },
   "cell_type": "code",
   "source": [
    "patient_df['Age'].iplot(kind='hist',bins=30,color='red',xTitle='Ages of distribution',yTitle='Count')"
   ],
   "execution_count": null,
   "outputs": []
  },
  {
   "metadata": {},
   "cell_type": "markdown",
   "source": [
    "### Distribution of Age vs SmokingStatus In Patient Dataframe"
   ],
   "execution_count": null
  },
  {
   "metadata": {
    "trusted": true
   },
   "cell_type": "code",
   "source": [
    "patient_df['SmokingStatus'].value_counts()"
   ],
   "execution_count": null,
   "outputs": []
  },
  {
   "metadata": {
    "trusted": true
   },
   "cell_type": "code",
   "source": [
    "plt.figure(figsize=(16, 6))\n",
    "sns.kdeplot(patient_df.loc[patient_df['SmokingStatus'] == 'Ex-smoker', 'Age'], label = 'Ex-smoker',shade=True)\n",
    "sns.kdeplot(patient_df.loc[patient_df['SmokingStatus'] == 'Never smoked', 'Age'], label = 'Never smoked',shade=True)\n",
    "sns.kdeplot(patient_df.loc[patient_df['SmokingStatus'] == 'Currently smokes', 'Age'], label = 'Currently smokes', shade=True)\n",
    "\n",
    "# Labeling of plot\n",
    "plt.xlabel('Age (years)'); plt.ylabel('Density'); plt.title('Distribution of Ages');"
   ],
   "execution_count": null,
   "outputs": []
  },
  {
   "metadata": {
    "_kg_hide-input": true,
    "trusted": true
   },
   "cell_type": "code",
   "source": [
    "plt.figure(figsize=(16, 6))\n",
    "ax = sns.violinplot(x = patient_df['SmokingStatus'], y = patient_df['Age'], palette = 'Reds')\n",
    "ax.set_xlabel(xlabel = 'Smoking habit', fontsize = 15)\n",
    "ax.set_ylabel(ylabel = 'Age', fontsize = 15)\n",
    "ax.set_title(label = 'Distribution of Smokers over Age', fontsize = 20)\n",
    "plt.show()"
   ],
   "execution_count": null,
   "outputs": []
  },
  {
   "metadata": {},
   "cell_type": "markdown",
   "source": [
    "### Distribution of Age vs Gender In Patient Dataframe"
   ],
   "execution_count": null
  },
  {
   "metadata": {
    "trusted": true
   },
   "cell_type": "code",
   "source": [
    "plt.figure(figsize=(16, 6))\n",
    "sns.kdeplot(patient_df.loc[patient_df['Sex'] == 'Male', 'Age'], label = 'Male',shade=True)\n",
    "sns.kdeplot(patient_df.loc[patient_df['Sex'] == 'Female', 'Age'], label = 'Female',shade=True)\n",
    "plt.xlabel('Age (years)'); plt.ylabel('Density'); plt.title('Distribution of Ages');"
   ],
   "execution_count": null,
   "outputs": []
  },
  {
   "metadata": {},
   "cell_type": "markdown",
   "source": [
    "## Gender Distribution"
   ],
   "execution_count": null
  },
  {
   "metadata": {
    "trusted": true
   },
   "cell_type": "code",
   "source": [
    "patient_df['Sex'].value_counts()"
   ],
   "execution_count": null,
   "outputs": []
  },
  {
   "metadata": {
    "trusted": true
   },
   "cell_type": "code",
   "source": [
    "patient_df['Sex'].value_counts().iplot(kind='bar',\n",
    "                                          yTitle='Count', \n",
    "                                          linecolor='black', \n",
    "                                          opacity=0.7,\n",
    "                                          color='blue',\n",
    "                                          theme='pearl',\n",
    "                                          bargap=0.8,\n",
    "                                          gridcolor='white',\n",
    "                                          title='Distribution of the Sex column in Patient Dataframe')"
   ],
   "execution_count": null,
   "outputs": []
  },
  {
   "metadata": {},
   "cell_type": "markdown",
   "source": [
    "`139` : Male\n",
    "\n",
    "`37` : Female"
   ],
   "execution_count": null
  },
  {
   "metadata": {},
   "cell_type": "markdown",
   "source": [
    "### Gender vs SmokingStatus In Patient Dataframe"
   ],
   "execution_count": null
  },
  {
   "metadata": {
    "trusted": true
   },
   "cell_type": "code",
   "source": [
    "plt.figure(figsize=(16, 6))\n",
    "a = sns.countplot(data=patient_df, x='SmokingStatus', hue='Sex')\n",
    "\n",
    "for p in a.patches:\n",
    "    a.annotate(format(p.get_height(), ','), \n",
    "           (p.get_x() + p.get_width() / 2., \n",
    "            p.get_height()), ha = 'center', va = 'center', \n",
    "           xytext = (0, 4), textcoords = 'offset points')\n",
    "\n",
    "plt.title('Gender split by SmokingStatus', fontsize=16)\n",
    "sns.despine(left=True, bottom=True);"
   ],
   "execution_count": null,
   "outputs": []
  },
  {
   "metadata": {
    "trusted": true
   },
   "cell_type": "code",
   "source": [
    "fig = px.box(patient_df, x=\"Sex\", y=\"Age\", points=\"all\")\n",
    "fig.show()"
   ],
   "execution_count": null,
   "outputs": []
  },
  {
   "metadata": {
    "trusted": true
   },
   "cell_type": "markdown",
   "source": [
    "## Patient Overlap"
   ],
   "execution_count": null
  },
  {
   "metadata": {
    "trusted": true,
    "_kg_hide-input": true
   },
   "cell_type": "code",
   "source": [
    "# Extract patient id's for the training set\n",
    "ids_train = train_df.Patient.values\n",
    "# Extract patient id's for the validation set\n",
    "ids_test = test_df.Patient.values\n",
    "#print(Fore.YELLOW +\"Total Patients in Train set: \",Style.RESET_ALL,train_df['Patient'].count())\n",
    "# Create a \"set\" datastructure of the training set id's to identify unique id's\n",
    "ids_train_set = set(ids_train)\n",
    "print(Fore.YELLOW + \"There are\",Style.RESET_ALL,f'{len(ids_train_set)}', Fore.BLUE + 'unique Patient IDs',Style.RESET_ALL,'in the training set')\n",
    "# Create a \"set\" datastructure of the validation set id's to identify unique id's\n",
    "ids_test_set = set(ids_test)\n",
    "print(Fore.YELLOW + \"There are\", Style.RESET_ALL, f'{len(ids_test_set)}', Fore.BLUE + 'unique Patient IDs',Style.RESET_ALL,'in the test set')\n",
    "\n",
    "# Identify patient overlap by looking at the intersection between the sets\n",
    "patient_overlap = list(ids_train_set.intersection(ids_test_set))\n",
    "n_overlap = len(patient_overlap)\n",
    "print(Fore.YELLOW + \"There are\", Style.RESET_ALL, f'{n_overlap}', Fore.BLUE + 'Patient IDs',Style.RESET_ALL, 'in both the training and test sets')\n",
    "print('')\n",
    "print(Fore.CYAN + 'These patients are in both the training and test datasets:', Style.RESET_ALL)\n",
    "print(f'{patient_overlap}')"
   ],
   "execution_count": null,
   "outputs": []
  },
  {
   "metadata": {},
   "cell_type": "markdown",
   "source": [
    "`5` patients are in both the training and test datasets."
   ],
   "execution_count": null
  },
  {
   "metadata": {},
   "cell_type": "markdown",
   "source": [
    "## Heatmap for train.csv"
   ],
   "execution_count": null
  },
  {
   "metadata": {
    "trusted": true
   },
   "cell_type": "code",
   "source": [
    "corrmat = train_df.corr() \n",
    "f, ax = plt.subplots(figsize =(9, 8)) \n",
    "sns.heatmap(corrmat, ax = ax, cmap = 'RdYlBu_r', linewidths = 0.5) "
   ],
   "execution_count": null,
   "outputs": []
  },
  {
   "metadata": {},
   "cell_type": "markdown",
   "source": [
    "Please compare with the previous visualization information. And we may compare to Pandas Profiling below."
   ],
   "execution_count": null
  },
  {
   "metadata": {},
   "cell_type": "markdown",
   "source": [
    "# 6. <a id='visual'>Visualising Images : DECOM 🗺️</a>  "
   ],
   "execution_count": null
  },
  {
   "metadata": {},
   "cell_type": "markdown",
   "source": [
    "`1` type of images containing the information:\n",
    "\n",
    "- `.dcm` files: [DICOM files](https://en.wikipedia.org/wiki/DICOM). It's saved in the \"Digital Imaging and Communications in Medicine\" format. It contains an image from a medical scan, such as an ultrasound or MRI + information about the patient."
   ],
   "execution_count": null
  },
  {
   "metadata": {
    "trusted": true
   },
   "cell_type": "code",
   "source": [
    "print(Fore.YELLOW + 'Train .dcm number of images:',Style.RESET_ALL, len(list(os.listdir('input/osic-pulmonary-fibrosis-progression/train'))), '\\n' +\n",
    "      Fore.BLUE + 'Test .dcm number of images:',Style.RESET_ALL, len(list(os.listdir('input/osic-pulmonary-fibrosis-progression/test'))), '\\n' +\n",
    "      '--------------------------------', '\\n' +\n",
    "      'There is the same number of images as in train/ test .csv datasets')"
   ],
   "execution_count": null,
   "outputs": []
  },
  {
   "metadata": {},
   "cell_type": "markdown",
   "source": [
    "Let's look at the DICOM images."
   ],
   "execution_count": null
  },
  {
   "metadata": {
    "trusted": true
   },
   "cell_type": "code",
   "source": [
    "def plot_pixel_array(dataset, figsize=(5,5)):\n",
    "    plt.figure(figsize=figsize)\n",
    "    plt.grid(False)\n",
    "    plt.imshow(dataset.pixel_array, cmap='gray') # cmap=plt.cm.bone)\n",
    "    plt.show()"
   ],
   "execution_count": null,
   "outputs": []
  },
  {
   "metadata": {
    "trusted": true,
    "_kg_hide-input": true
   },
   "cell_type": "code",
   "source": [
    "# https://www.kaggle.com/schlerp/getting-to-know-dicom-and-the-data\n",
    "def show_dcm_info(dataset):\n",
    "    print(Fore.YELLOW + \"Filename.........:\",Style.RESET_ALL,file_path)\n",
    "    print()\n",
    "\n",
    "    pat_name = dataset.PatientName\n",
    "    display_name = pat_name.family_name + \", \" + pat_name.given_name\n",
    "    print(Fore.BLUE + \"Patient's name......:\",Style.RESET_ALL, display_name)\n",
    "    print(Fore.BLUE + \"Patient id..........:\",Style.RESET_ALL, dataset.PatientID)\n",
    "    print(Fore.BLUE + \"Patient's Sex.......:\",Style.RESET_ALL, dataset.PatientSex)\n",
    "    print(Fore.YELLOW + \"Modality............:\",Style.RESET_ALL, dataset.Modality)\n",
    "    print(Fore.GREEN + \"Body Part Examined..:\",Style.RESET_ALL, dataset.BodyPartExamined)\n",
    "    \n",
    "    if 'PixelData' in dataset:\n",
    "        rows = int(dataset.Rows)\n",
    "        cols = int(dataset.Columns)\n",
    "        print(Fore.BLUE + \"Image size.......:\",Style.RESET_ALL,\" {rows:d} x {cols:d}, {size:d} bytes\".format(\n",
    "            rows=rows, cols=cols, size=len(dataset.PixelData)))\n",
    "        if 'PixelSpacing' in dataset:\n",
    "            print(Fore.YELLOW + \"Pixel spacing....:\",Style.RESET_ALL,dataset.PixelSpacing)\n",
    "            dataset.PixelSpacing = [1, 1]\n",
    "        plt.figure(figsize=(10, 10))\n",
    "        plt.imshow(dataset.pixel_array, cmap='gray')\n",
    "        plt.show()\n",
    "for file_path in glob.glob('input/osic-pulmonary-fibrosis-progression/train/*/*.dcm'):\n",
    "    dataset = pydicom.dcmread(file_path)\n",
    "    show_dcm_info(dataset)\n",
    "    break # Comment this out to see all"
   ],
   "execution_count": null,
   "outputs": []
  },
  {
   "metadata": {
    "trusted": true
   },
   "cell_type": "code",
   "source": [
    "# https://www.kaggle.com/yeayates21/osic-simple-image-eda\n",
    "\n",
    "imdir = \"/kaggle/input/osic-pulmonary-fibrosis-progression/train/ID00123637202217151272140\"\n",
    "print(\"total images for patient ID00123637202217151272140: \", len(os.listdir(imdir)))\n",
    "\n",
    "# view first (columns*rows) images in order\n",
    "fig=plt.figure(figsize=(12, 12))\n",
    "columns = 4\n",
    "rows = 5\n",
    "imglist = os.listdir(imdir)\n",
    "for i in range(1, columns*rows +1):\n",
    "    filename = imdir + \"/\" + str(i) + \".dcm\"\n",
    "    ds = pydicom.dcmread(filename)\n",
    "    fig.add_subplot(rows, columns, i)\n",
    "    plt.imshow(ds.pixel_array, cmap='gray')\n",
    "plt.show()"
   ],
   "execution_count": null,
   "outputs": []
  },
  {
   "metadata": {
    "trusted": true
   },
   "cell_type": "code",
   "source": [
    "# https://www.kaggle.com/yeayates21/osic-simple-image-eda\n",
    "\n",
    "imdir = \"/kaggle/input/osic-pulmonary-fibrosis-progression/train/ID00123637202217151272140\"\n",
    "print(\"total images for patient ID00123637202217151272140: \", len(os.listdir(imdir)))\n",
    "\n",
    "# view first (columns*rows) images in order\n",
    "fig=plt.figure(figsize=(12, 12))\n",
    "columns = 4\n",
    "rows = 5\n",
    "imglist = os.listdir(imdir)\n",
    "for i in range(1, columns*rows +1):\n",
    "    filename = imdir + \"/\" + str(i) + \".dcm\"\n",
    "    ds = pydicom.dcmread(filename)\n",
    "    fig.add_subplot(rows, columns, i)\n",
    "    plt.imshow(ds.pixel_array, cmap='jet')\n",
    "plt.show()"
   ],
   "execution_count": null,
   "outputs": []
  },
  {
   "metadata": {},
   "cell_type": "markdown",
   "source": [
    "# Visualization using gif\n",
    "* https://www.kaggle.com/danpresil1/dicom-basic-preprocessing-and-visualization"
   ],
   "execution_count": null
  },
  {
   "metadata": {
    "_kg_hide-input": true,
    "trusted": true
   },
   "cell_type": "code",
   "source": [
    "apply_resample = False\n",
    "\n",
    "def load_scan(path):\n",
    "    slices = [pydicom.read_file(path + '/' + s) for s in os.listdir(path)]\n",
    "    slices.sort(key = lambda x: float(x.ImagePositionPatient[2]))\n",
    "    try:\n",
    "        slice_thickness = np.abs(slices[0].ImagePositionPatient[2] - slices[1].ImagePositionPatient[2])\n",
    "    except:\n",
    "        slice_thickness = np.abs(slices[0].SliceLocation - slices[1].SliceLocation)\n",
    "        \n",
    "    for s in slices:\n",
    "        s.SliceThickness = slice_thickness\n",
    "        \n",
    "    return slices"
   ],
   "execution_count": null,
   "outputs": []
  },
  {
   "metadata": {
    "_kg_hide-input": true,
    "trusted": true
   },
   "cell_type": "code",
   "source": [
    "def load_scan(path):\n",
    "    slices = [pydicom.read_file(path + '/' + s) for s in os.listdir(path)]\n",
    "    slices.sort(key = lambda x: float(x.ImagePositionPatient[2]))\n",
    "    try:\n",
    "        slice_thickness = np.abs(slices[0].ImagePositionPatient[2] - slices[1].ImagePositionPatient[2])\n",
    "    except:\n",
    "        slice_thickness = np.abs(slices[0].SliceLocation - slices[1].SliceLocation)\n",
    "        \n",
    "    for s in slices:\n",
    "        s.SliceThickness = slice_thickness\n",
    "        \n",
    "    return slices"
   ],
   "execution_count": null,
   "outputs": []
  },
  {
   "metadata": {
    "_kg_hide-input": true,
    "trusted": true
   },
   "cell_type": "code",
   "source": [
    "def get_pixels_hu(slices):\n",
    "    image = np.stack([s.pixel_array for s in slices])\n",
    "    # Convert to int16 (from sometimes int16), \n",
    "    # should be possible as values should always be low enough (<32k)\n",
    "    image = image.astype(np.int16)\n",
    "\n",
    "    # Set outside-of-scan pixels to 0\n",
    "    # The intercept is usually -1024, so air is approximately 0\n",
    "    image[image == -2000] = 0\n",
    "    \n",
    "    # Convert to Hounsfield units (HU)\n",
    "    for slice_number in range(len(slices)):\n",
    "        \n",
    "        intercept = slices[slice_number].RescaleIntercept\n",
    "        slope = slices[slice_number].RescaleSlope\n",
    "        \n",
    "        if slope != 1:\n",
    "            image[slice_number] = slope * image[slice_number].astype(np.float64)\n",
    "            image[slice_number] = image[slice_number].astype(np.int16)\n",
    "            \n",
    "        image[slice_number] += np.int16(intercept)\n",
    "    \n",
    "    return np.array(image, dtype=np.int16)"
   ],
   "execution_count": null,
   "outputs": []
  },
  {
   "metadata": {
    "_kg_hide-input": true,
    "trusted": true
   },
   "cell_type": "code",
   "source": [
    "def set_lungwin(img, hu=[-1200., 600.]):\n",
    "    lungwin = np.array(hu)\n",
    "    newimg = (img-lungwin[0]) / (lungwin[1]-lungwin[0])\n",
    "    newimg[newimg < 0] = 0\n",
    "    newimg[newimg > 1] = 1\n",
    "    newimg = (newimg * 255).astype('uint8')\n",
    "    return newimg"
   ],
   "execution_count": null,
   "outputs": []
  },
  {
   "metadata": {
    "trusted": true
   },
   "cell_type": "code",
   "source": [
    "scans = load_scan('input/osic-pulmonary-fibrosis-progression/train/ID00007637202177411956430/')\n",
    "scan_array = set_lungwin(get_pixels_hu(scans))"
   ],
   "execution_count": null,
   "outputs": []
  },
  {
   "metadata": {
    "_kg_hide-input": true,
    "trusted": true
   },
   "cell_type": "code",
   "source": [
    "# Resample to 1mm (An optional step, it may not be relevant to this competition because of the large slice thickness on the z axis)\n",
    "\n",
    "from scipy.ndimage.interpolation import zoom\n",
    "\n",
    "def resample(imgs, spacing, new_spacing):\n",
    "    new_shape = np.round(imgs.shape * spacing / new_spacing)\n",
    "    true_spacing = spacing * imgs.shape / new_shape\n",
    "    resize_factor = new_shape / imgs.shape\n",
    "    imgs = zoom(imgs, resize_factor, mode='nearest')\n",
    "    return imgs, true_spacing, new_shape\n",
    "\n",
    "spacing_z = (scans[-1].ImagePositionPatient[2] - scans[0].ImagePositionPatient[2]) / len(scans)\n",
    "\n",
    "if apply_resample:\n",
    "    scan_array_resample = resample(scan_array, np.array(np.array([spacing_z, *scans[0].PixelSpacing])), np.array([1.,1.,1.]))[0]"
   ],
   "execution_count": null,
   "outputs": []
  },
  {
   "metadata": {
    "trusted": true
   },
   "cell_type": "code",
   "source": [
    "import imageio\n",
    "from IPython.display import Image\n",
    "\n",
    "imageio.mimsave(\"/tmp/gif.gif\", scan_array, duration=0.0001)\n",
    "Image(filename=\"/tmp/gif.gif\", format='png')"
   ],
   "execution_count": null,
   "outputs": []
  },
  {
   "metadata": {},
   "cell_type": "markdown",
   "source": [
    "# Visualization using Animation\n",
    "* https://www.kaggle.com/pranavkasela/animating-the-lung-ct-scan"
   ],
   "execution_count": null
  },
  {
   "metadata": {},
   "cell_type": "markdown",
   "source": [
    "For animation, I used scan_array in 'visualization using gif' section."
   ],
   "execution_count": null
  },
  {
   "metadata": {
    "_kg_hide-output": true,
    "trusted": true
   },
   "cell_type": "code",
   "source": [
    "import matplotlib.animation as animation\n",
    "\n",
    "fig = plt.figure()\n",
    "\n",
    "ims = []\n",
    "for image in scan_array:\n",
    "    im = plt.imshow(image, animated=True, cmap=\"Greys\")\n",
    "    plt.axis(\"off\")\n",
    "    ims.append([im])\n",
    "\n",
    "ani = animation.ArtistAnimation(fig, ims, interval=100, blit=False,\n",
    "                                repeat_delay=1000)\n"
   ],
   "execution_count": null,
   "outputs": []
  },
  {
   "metadata": {
    "trusted": true
   },
   "cell_type": "code",
   "source": [
    "HTML(ani.to_jshtml())"
   ],
   "execution_count": null,
   "outputs": []
  },
  {
   "metadata": {
    "trusted": true
   },
   "cell_type": "code",
   "source": [
    "HTML(ani.to_html5_video())"
   ],
   "execution_count": null,
   "outputs": []
  },
  {
   "metadata": {},
   "cell_type": "markdown",
   "source": [
    "# 7. <a id='extract'>Extracting DIOCOM files information in a dataframe 🌊</a>"
   ],
   "execution_count": null
  },
  {
   "metadata": {},
   "cell_type": "markdown",
   "source": [
    "* https://www.kaggle.com/trsekhar123/nb-to-extract-metadata-and-resize-images-train"
   ],
   "execution_count": null
  },
  {
   "metadata": {
    "trusted": true
   },
   "cell_type": "code",
   "source": [
    "def extract_dicom_meta_data(filename: str) -> Dict:\n",
    "    # Load image\n",
    "    \n",
    "    image_data = pydicom.read_file(filename)\n",
    "    img=np.array(image_data.pixel_array).flatten()\n",
    "    row = {\n",
    "        'Patient': image_data.PatientID,\n",
    "        'body_part_examined': image_data.BodyPartExamined,\n",
    "        'image_position_patient': image_data.ImagePositionPatient,\n",
    "        'image_orientation_patient': image_data.ImageOrientationPatient,\n",
    "        'photometric_interpretation': image_data.PhotometricInterpretation,\n",
    "        'rows': image_data.Rows,\n",
    "        'columns': image_data.Columns,\n",
    "        'pixel_spacing': image_data.PixelSpacing,\n",
    "        'window_center': image_data.WindowCenter,\n",
    "        'window_width': image_data.WindowWidth,\n",
    "        'modality': image_data.Modality,\n",
    "        'StudyInstanceUID': image_data.StudyInstanceUID,\n",
    "        'SeriesInstanceUID': image_data.StudyInstanceUID,\n",
    "        'StudyID': image_data.StudyInstanceUID, \n",
    "        'SamplesPerPixel': image_data.SamplesPerPixel,\n",
    "        'BitsAllocated': image_data.BitsAllocated,\n",
    "        'BitsStored': image_data.BitsStored,\n",
    "        'HighBit': image_data.HighBit,\n",
    "        'PixelRepresentation': image_data.PixelRepresentation,\n",
    "        'RescaleIntercept': image_data.RescaleIntercept,\n",
    "        'RescaleSlope': image_data.RescaleSlope,\n",
    "        'img_min': np.min(img),\n",
    "        'img_max': np.max(img),\n",
    "        'img_mean': np.mean(img),\n",
    "        'img_std': np.std(img)}\n",
    "\n",
    "    return row"
   ],
   "execution_count": null,
   "outputs": []
  },
  {
   "metadata": {
    "trusted": true
   },
   "cell_type": "code",
   "source": [
    "train_image_path = '/kaggle/input/osic-pulmonary-fibrosis-progression/train'\n",
    "train_image_files = glob.glob(os.path.join(train_image_path, '*', '*.dcm'))\n",
    "\n",
    "meta_data_df = []\n",
    "for filename in tqdm.tqdm(train_image_files):\n",
    "    try:\n",
    "        meta_data_df.append(extract_dicom_meta_data(filename))\n",
    "    except Exception as e:\n",
    "        continue"
   ],
   "execution_count": null,
   "outputs": []
  },
  {
   "metadata": {},
   "cell_type": "markdown",
   "source": [
    "The meta elements in dcom file seem to be slightly different for each file. So, I use Exception.\n",
    "- Be careful!"
   ],
   "execution_count": null
  },
  {
   "metadata": {
    "trusted": true
   },
   "cell_type": "code",
   "source": [
    "# Convert to a pd.DataFrame from dict\n",
    "meta_data_df = pd.DataFrame.from_dict(meta_data_df)\n",
    "meta_data_df.head()"
   ],
   "execution_count": null,
   "outputs": []
  },
  {
   "metadata": {},
   "cell_type": "markdown",
   "source": [
    "The code below still makes sense, so I leave it."
   ],
   "execution_count": null
  },
  {
   "metadata": {
    "trusted": true,
    "_kg_hide-input": true
   },
   "cell_type": "code",
   "source": [
    "# source: https://www.kaggle.com/c/siim-isic-melanoma-classification/discussion/154658\n",
    "folder='train'\n",
    "PATH='input/osic-pulmonary-fibrosis-progression/'\n",
    "\n",
    "last_index = 2\n",
    "\n",
    "column_names = ['image_name', 'dcm_ImageOrientationPatient', \n",
    "                'dcm_ImagePositionPatient', 'dcm_PatientID',\n",
    "                'dcm_PatientName', 'dcm_PatientSex'\n",
    "                'dcm_rows', 'dcm_columns']\n",
    "\n",
    "def extract_DICOM_attributes(folder):\n",
    "    patients_folder = list(os.listdir(os.path.join(PATH, folder)))\n",
    "    df = pd.DataFrame()\n",
    "    \n",
    "    i = 0\n",
    "    \n",
    "    for patient_id in patients_folder:\n",
    "   \n",
    "        img_path = os.path.join(PATH, folder, patient_id)\n",
    "        \n",
    "        print(img_path)\n",
    "        \n",
    "        images = list(os.listdir(img_path))\n",
    "        \n",
    "        #df = pd.DataFrame()\n",
    "\n",
    "        for image in images:\n",
    "            image_name = image.split(\".\")[0]\n",
    "\n",
    "            dicom_file_path = os.path.join(img_path,image)\n",
    "            dicom_file_dataset = pydicom.read_file(dicom_file_path)\n",
    "                \n",
    "            '''\n",
    "            print(dicom_file_dataset.dir(\"pat\"))\n",
    "            print(dicom_file_dataset.data_element(\"ImageOrientationPatient\"))\n",
    "            print(dicom_file_dataset.data_element(\"ImagePositionPatient\"))\n",
    "            print(dicom_file_dataset.data_element(\"PatientID\"))\n",
    "            print(dicom_file_dataset.data_element(\"PatientName\"))\n",
    "            print(dicom_file_dataset.data_element(\"PatientSex\"))\n",
    "            '''\n",
    "            \n",
    "            imageOrientationPatient = dicom_file_dataset.ImageOrientationPatient\n",
    "            #imagePositionPatient = dicom_file_dataset.ImagePositionPatient\n",
    "            patientID = dicom_file_dataset.PatientID\n",
    "            patientName = dicom_file_dataset.PatientName\n",
    "            patientSex = dicom_file_dataset.PatientSex\n",
    "        \n",
    "            rows = dicom_file_dataset.Rows\n",
    "            cols = dicom_file_dataset.Columns\n",
    "            \n",
    "            #print(rows)\n",
    "            #print(columns)\n",
    "            \n",
    "            temp_dict = {'image_name': image_name, \n",
    "                                    'dcm_ImageOrientationPatient': imageOrientationPatient,\n",
    "                                    #'dcm_ImagePositionPatient':imagePositionPatient,\n",
    "                                    'dcm_PatientID': patientID, \n",
    "                                    'dcm_PatientName': patientName,\n",
    "                                    'dcm_PatientSex': patientSex,\n",
    "                                    'dcm_rows': rows,\n",
    "                                    'dcm_columns': cols}\n",
    "\n",
    "\n",
    "            df = df.append([temp_dict])\n",
    "            \n",
    "        i += 1\n",
    "        \n",
    "        if i == last_index:\n",
    "            break\n",
    "            \n",
    "    return df\n"
   ],
   "execution_count": null,
   "outputs": []
  },
  {
   "metadata": {
    "trusted": true
   },
   "cell_type": "code",
   "source": [
    "extract_DICOM_attributes('train')"
   ],
   "execution_count": null,
   "outputs": []
  },
  {
   "metadata": {},
   "cell_type": "markdown",
   "source": [
    "The meta elements in dcom file seem to be slightly different for each file.\n",
    "- Be careful!"
   ],
   "execution_count": null
  },
  {
   "metadata": {},
   "cell_type": "markdown",
   "source": [
    "# <a id='etc'>Etc. - Pandas Profiling 🌤️</a>"
   ],
   "execution_count": null
  },
  {
   "metadata": {
    "trusted": true
   },
   "cell_type": "code",
   "source": [
    "import pandas_profiling as pdp"
   ],
   "execution_count": null,
   "outputs": []
  },
  {
   "metadata": {
    "trusted": true
   },
   "cell_type": "code",
   "source": [
    "train_df = pd.read_csv('input/osic-pulmonary-fibrosis-progression/train.csv')\n",
    "test_df = pd.read_csv('input/osic-pulmonary-fibrosis-progression/test.csv')"
   ],
   "execution_count": null,
   "outputs": []
  },
  {
   "metadata": {
    "trusted": true,
    "_kg_hide-output": true
   },
   "cell_type": "code",
   "source": [
    "profile_train_df = pdp.ProfileReport(train_df)"
   ],
   "execution_count": null,
   "outputs": []
  },
  {
   "metadata": {
    "trusted": true
   },
   "cell_type": "code",
   "source": [
    "profile_train_df"
   ],
   "execution_count": null,
   "outputs": []
  },
  {
   "metadata": {
    "trusted": true,
    "_kg_hide-output": true
   },
   "cell_type": "code",
   "source": [
    "profile_test_df = pdp.ProfileReport(test_df)"
   ],
   "execution_count": null,
   "outputs": []
  },
  {
   "metadata": {
    "trusted": true
   },
   "cell_type": "code",
   "source": [
    "profile_test_df"
   ],
   "execution_count": null,
   "outputs": []
  },
  {
   "metadata": {},
   "cell_type": "markdown",
   "source": [
    "## If this kernel is useful, <font color='orange'>please upvote</font>!\n",
    "- See you next time!"
   ],
   "execution_count": null
  },
  {
   "metadata": {},
   "cell_type": "markdown",
   "source": [
    "# References\n",
    "- https://www.kaggle.com/tarunpaparaju/siim-isic-melanoma-eda-pytorch-baseline\n",
    "- https://www.kaggle.com/andradaolteanu/siim-melanoma-competition-eda-augmentations\n",
    "- https://www.kaggle.com/parulpandey/melanoma-classification-eda-starter\n",
    "- https://www.kaggle.com/yeayates21/osic-simple-image-eda\n",
    "- https://www.kaggle.com/aviralpamecha/osic-in-depth-and-advanced-analysis\n",
    "- https://www.kaggle.com/danpresil1/dicom-basic-preprocessing-and-visualization"
   ],
   "execution_count": null
  },
  {
   "cell_type": "code",
   "execution_count": 29,
   "outputs": [],
   "source": [
    "def extract_DICOM_attributes(folder_path):\n",
    "\n",
    "    images = list(os.listdir(folder_path))\n",
    "    df = pd.DataFrame()\n",
    "    for image in images:\n",
    "        image_name = image.split(\".\")[0]\n",
    "        dicom_file_path = os.path.join(folder_path,image)\n",
    "        dicom_file_dataset = pydicom.read_file(dicom_file_path)\n",
    "        print(dicom_file_dataset)\n",
    "        study_date = dicom_file_dataset.StudyDate\n",
    "        modality = dicom_file_dataset.Modality\n",
    "        age = dicom_file_dataset.PatientAge\n",
    "        sex = dicom_file_dataset.PatientSex\n",
    "        body_part_examined = dicom_file_dataset.BodyPartExamined\n",
    "        patient_orientation = dicom_file_dataset.PatientOrientation\n",
    "        photometric_interpretation = dicom_file_dataset.PhotometricInterpretation\n",
    "        rows = dicom_file_dataset.Rows\n",
    "        columns = dicom_file_dataset.Columns\n",
    "\n",
    "        df = df.append(pd.DataFrame({'image_name': image_name,\n",
    "                        'dcm_modality': modality,'dcm_study_date':study_date, 'dcm_age': age, 'dcm_sex': sex,\n",
    "                        'dcm_body_part_examined': body_part_examined,'dcm_patient_orientation': patient_orientation,\n",
    "                        'dcm_photometric_interpretation': photometric_interpretation,\n",
    "                        'dcm_rows': rows, 'dcm_columns': columns}, index=[0]))\n",
    "    return df"
   ],
   "metadata": {
    "collapsed": false,
    "pycharm": {
     "name": "#%%\n"
    }
   }
  },
  {
   "cell_type": "code",
   "execution_count": 30,
   "outputs": [
    {
     "name": "stdout",
     "output_type": "stream",
     "text": [
      "Dataset.file_meta -------------------------------\n",
      "(0002, 0000) File Meta Information Group Length  UL: 200\n",
      "(0002, 0001) File Meta Information Version       OB: b'\\x00\\x01'\n",
      "(0002, 0002) Media Storage SOP Class UID         UI: CT Image Storage\n",
      "(0002, 0003) Media Storage SOP Instance UID      UI: 2.25.64263309153451340158535126058592636872\n",
      "(0002, 0010) Transfer Syntax UID                 UI: Explicit VR Little Endian\n",
      "(0002, 0012) Implementation Class UID            UI: 1.2.276.0.7230010.3.0.3.6.1\n",
      "(0002, 0013) Implementation Version Name         SH: 'OSIRIX_361'\n",
      "(0002, 0016) Source Application Entity Title     AE: 'ANONYMOUS'\n",
      "-------------------------------------------------\n",
      "(0008, 0008) Image Type                          CS: ['ORIGINAL', 'PRIMARY', 'AXIAL']\n",
      "(0008, 0018) SOP Instance UID                    UI: 2.25.64263309153451340158535126058592636872\n",
      "(0008, 0060) Modality                            CS: 'CT'\n",
      "(0008, 0070) Manufacturer                        LO: 'TOSHIBA'\n",
      "(0008, 1090) Manufacturer's Model Name           LO: 'Aquilion'\n",
      "(0010, 0010) Patient's Name                      PN: 'ID00012637202177665765362'\n",
      "(0010, 0020) Patient ID                          LO: 'ID00012637202177665765362'\n",
      "(0010, 0040) Patient's Sex                       CS: ''\n",
      "(0012, 0063) De-identification Method            LO: 'Table;'\n",
      "(0018, 0015) Body Part Examined                  CS: 'Chest'\n",
      "(0018, 0050) Slice Thickness                     DS: \"7.0\"\n",
      "(0018, 0060) KVP                                 DS: \"120.0\"\n",
      "(0018, 1120) Gantry/Detector Tilt                DS: \"0.0\"\n",
      "(0018, 1130) Table Height                        DS: \"92.0\"\n",
      "(0018, 1140) Rotation Direction                  CS: 'CW'\n",
      "(0018, 1151) X-Ray Tube Current                  IS: \"195\"\n",
      "(0018, 1170) Generator Power                     IS: \"23\"\n",
      "(0018, 1190) Focal Spot(s)                       DS: [0.9, 0.8]\n",
      "(0018, 1210) Convolution Kernel                  SH: 'FC52'\n",
      "(0018, 5100) Patient Position                    CS: 'FFS'\n",
      "(0020, 000d) Study Instance UID                  UI: 2.25.153147783572292318044190524202375230808\n",
      "(0020, 000e) Series Instance UID                 UI: 2.25.8673955043209453614960268392817515576\n",
      "(0020, 0010) Study ID                            SH: ''\n",
      "(0020, 0013) Instance Number                     IS: \"45\"\n",
      "(0020, 0020) Patient Orientation                 CS: ['L', 'P']\n",
      "(0020, 0032) Image Position (Patient)            DS: [-160.0000, -160.0000, 1664.000]\n",
      "(0020, 0037) Image Orientation (Patient)         DS: [1.00000, 0.00000, 0.00000, 0.00000, 1.00000, 0.00000]\n",
      "(0020, 0052) Frame of Reference UID              UI: 2.25.140831677912786543974886097923990475035\n",
      "(0020, 1040) Position Reference Indicator        LO: ''\n",
      "(0020, 1041) Slice Location                      DS: \"308.0\"\n",
      "(0028, 0002) Samples per Pixel                   US: 1\n",
      "(0028, 0004) Photometric Interpretation          CS: 'MONOCHROME2'\n",
      "(0028, 0010) Rows                                US: 512\n",
      "(0028, 0011) Columns                             US: 512\n",
      "(0028, 0030) Pixel Spacing                       DS: [0.625, 0.625]\n",
      "(0028, 0100) Bits Allocated                      US: 16\n",
      "(0028, 0101) Bits Stored                         US: 16\n",
      "(0028, 0102) High Bit                            US: 15\n",
      "(0028, 0103) Pixel Representation                US: 1\n",
      "(0028, 1050) Window Center                       DS: \"-500.0\"\n",
      "(0028, 1051) Window Width                        DS: \"-1500.0\"\n",
      "(0028, 1052) Rescale Intercept                   DS: \"0.0\"\n",
      "(0028, 1053) Rescale Slope                       DS: \"1.0\"\n",
      "(7fe0, 0010) Pixel Data                          OW: Array of 524288 elements\n"
     ]
    },
    {
     "ename": "AttributeError",
     "evalue": "'FileDataset' object has no attribute 'StudyDate'",
     "output_type": "error",
     "traceback": [
      "\u001B[0;31m---------------------------------------------------------------------------\u001B[0m",
      "\u001B[0;31mAttributeError\u001B[0m                            Traceback (most recent call last)",
      "\u001B[0;32m<ipython-input-30-a2ed72d26c2d>\u001B[0m in \u001B[0;36m<module>\u001B[0;34m\u001B[0m\n\u001B[1;32m      1\u001B[0m \u001B[0mfolder_path\u001B[0m \u001B[0;34m=\u001B[0m \u001B[0;34m'input/osic-pulmonary-fibrosis-progression/train/ID00012637202177665765362'\u001B[0m\u001B[0;34m\u001B[0m\u001B[0;34m\u001B[0m\u001B[0m\n\u001B[0;32m----> 2\u001B[0;31m \u001B[0mpics_df\u001B[0m \u001B[0;34m=\u001B[0m \u001B[0mextract_DICOM_attributes\u001B[0m\u001B[0;34m(\u001B[0m\u001B[0mfolder_path\u001B[0m\u001B[0;34m)\u001B[0m\u001B[0;34m\u001B[0m\u001B[0;34m\u001B[0m\u001B[0m\n\u001B[0m\u001B[1;32m      3\u001B[0m \u001B[0mpics_df\u001B[0m\u001B[0;34m.\u001B[0m\u001B[0mhead\u001B[0m\u001B[0;34m(\u001B[0m\u001B[0;34m)\u001B[0m\u001B[0;34m\u001B[0m\u001B[0;34m\u001B[0m\u001B[0m\n",
      "\u001B[0;32m<ipython-input-29-a829dab672f8>\u001B[0m in \u001B[0;36mextract_DICOM_attributes\u001B[0;34m(folder_path)\u001B[0m\n\u001B[1;32m      8\u001B[0m         \u001B[0mdicom_file_dataset\u001B[0m \u001B[0;34m=\u001B[0m \u001B[0mpydicom\u001B[0m\u001B[0;34m.\u001B[0m\u001B[0mread_file\u001B[0m\u001B[0;34m(\u001B[0m\u001B[0mdicom_file_path\u001B[0m\u001B[0;34m)\u001B[0m\u001B[0;34m\u001B[0m\u001B[0;34m\u001B[0m\u001B[0m\n\u001B[1;32m      9\u001B[0m         \u001B[0mprint\u001B[0m\u001B[0;34m(\u001B[0m\u001B[0mdicom_file_dataset\u001B[0m\u001B[0;34m)\u001B[0m\u001B[0;34m\u001B[0m\u001B[0;34m\u001B[0m\u001B[0m\n\u001B[0;32m---> 10\u001B[0;31m         \u001B[0mstudy_date\u001B[0m \u001B[0;34m=\u001B[0m \u001B[0mdicom_file_dataset\u001B[0m\u001B[0;34m.\u001B[0m\u001B[0mStudyDate\u001B[0m\u001B[0;34m\u001B[0m\u001B[0;34m\u001B[0m\u001B[0m\n\u001B[0m\u001B[1;32m     11\u001B[0m         \u001B[0mmodality\u001B[0m \u001B[0;34m=\u001B[0m \u001B[0mdicom_file_dataset\u001B[0m\u001B[0;34m.\u001B[0m\u001B[0mModality\u001B[0m\u001B[0;34m\u001B[0m\u001B[0;34m\u001B[0m\u001B[0m\n\u001B[1;32m     12\u001B[0m         \u001B[0mage\u001B[0m \u001B[0;34m=\u001B[0m \u001B[0mdicom_file_dataset\u001B[0m\u001B[0;34m.\u001B[0m\u001B[0mPatientAge\u001B[0m\u001B[0;34m\u001B[0m\u001B[0;34m\u001B[0m\u001B[0m\n",
      "\u001B[0;32m~/miniconda3/envs/coursera/lib/python3.8/site-packages/pydicom/dataset.py\u001B[0m in \u001B[0;36m__getattr__\u001B[0;34m(self, name)\u001B[0m\n\u001B[1;32m    776\u001B[0m             \u001B[0;32mreturn\u001B[0m \u001B[0;34m{\u001B[0m\u001B[0;34m}\u001B[0m\u001B[0;34m\u001B[0m\u001B[0;34m\u001B[0m\u001B[0m\n\u001B[1;32m    777\u001B[0m         \u001B[0;31m# Try the base class attribute getter (fix for issue 332)\u001B[0m\u001B[0;34m\u001B[0m\u001B[0;34m\u001B[0m\u001B[0;34m\u001B[0m\u001B[0m\n\u001B[0;32m--> 778\u001B[0;31m         \u001B[0;32mreturn\u001B[0m \u001B[0mobject\u001B[0m\u001B[0;34m.\u001B[0m\u001B[0m__getattribute__\u001B[0m\u001B[0;34m(\u001B[0m\u001B[0mself\u001B[0m\u001B[0;34m,\u001B[0m \u001B[0mname\u001B[0m\u001B[0;34m)\u001B[0m\u001B[0;34m\u001B[0m\u001B[0;34m\u001B[0m\u001B[0m\n\u001B[0m\u001B[1;32m    779\u001B[0m \u001B[0;34m\u001B[0m\u001B[0m\n\u001B[1;32m    780\u001B[0m     \u001B[0;34m@\u001B[0m\u001B[0mproperty\u001B[0m\u001B[0;34m\u001B[0m\u001B[0;34m\u001B[0m\u001B[0m\n",
      "\u001B[0;31mAttributeError\u001B[0m: 'FileDataset' object has no attribute 'StudyDate'"
     ]
    }
   ],
   "source": [
    "folder_path = 'input/osic-pulmonary-fibrosis-progression/train/ID00012637202177665765362'\n",
    "pics_df = extract_DICOM_attributes(folder_path)\n",
    "pics_df.head()"
   ],
   "metadata": {
    "collapsed": false,
    "pycharm": {
     "name": "#%%\n"
    }
   }
  }
 ],
 "metadata": {
  "kernelspec": {
   "language": "python",
   "display_name": "Python 3",
   "name": "python3"
  },
  "language_info": {
   "pygments_lexer": "ipython3",
   "nbconvert_exporter": "python",
   "version": "3.6.4",
   "file_extension": ".py",
   "codemirror_mode": {
    "name": "ipython",
    "version": 3
   },
   "name": "python",
   "mimetype": "text/x-python"
  }
 },
 "nbformat": 4,
 "nbformat_minor": 4
}